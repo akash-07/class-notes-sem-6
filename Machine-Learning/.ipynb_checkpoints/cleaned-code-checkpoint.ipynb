{
 "cells": [
  {
   "cell_type": "code",
   "execution_count": 1,
   "metadata": {},
   "outputs": [],
   "source": [
    "from sklearn.model_selection import train_test_split\n",
    "import re\n",
    "import numpy as np\n",
    "file = open('Ls.txt', 'r')\n",
    "X1 = np.array([])\n",
    "X2 = np.array([])\n",
    "for line in file:\n",
    "    vals = re.findall('[\\S]+', line)\n",
    "    nums = [float(v) for v in vals]\n",
    "    X1 = np.append(X1, nums[0])\n",
    "    X2 = np.append(X2, nums[1])\n",
    "    \n",
    "X1_class1 = X1[:500]\n",
    "X2_class1 = X1[:500]\n",
    "X1_class2 = X1[500:1000]\n",
    "X2_class2 = X2[500:1000]\n",
    "X1_class3 = X1[1000:]\n",
    "X2_class3 = X2[1000:]"
   ]
  },
  {
   "cell_type": "code",
   "execution_count": null,
   "metadata": {},
   "outputs": [],
   "source": []
  }
 ],
 "metadata": {
  "kernelspec": {
   "display_name": "Python 3",
   "language": "python",
   "name": "python3"
  },
  "language_info": {
   "codemirror_mode": {
    "name": "ipython",
    "version": 3
   },
   "file_extension": ".py",
   "mimetype": "text/x-python",
   "name": "python",
   "nbconvert_exporter": "python",
   "pygments_lexer": "ipython3",
   "version": "3.6.3"
  }
 },
 "nbformat": 4,
 "nbformat_minor": 2
}
